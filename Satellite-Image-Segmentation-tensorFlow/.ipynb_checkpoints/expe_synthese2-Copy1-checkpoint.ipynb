{
 "cells": [
  {
   "cell_type": "code",
   "execution_count": 1,
   "id": "93b2d24f",
   "metadata": {
    "scrolled": true
   },
   "outputs": [
    {
     "name": "stderr",
     "output_type": "stream",
     "text": [
      "2022-07-07 14:44:18.598317: I tensorflow/core/util/util.cc:169] oneDNN custom operations are on. You may see slightly different numerical results due to floating-point round-off errors from different computation orders. To turn them off, set the environment variable `TF_ENABLE_ONEDNN_OPTS=0`.\n",
      "2022-07-07 14:44:18.603178: W tensorflow/stream_executor/platform/default/dso_loader.cc:64] Could not load dynamic library 'libcudart.so.11.0'; dlerror: libcudart.so.11.0: cannot open shared object file: No such file or directory\n",
      "2022-07-07 14:44:18.603192: I tensorflow/stream_executor/cuda/cudart_stub.cc:29] Ignore above cudart dlerror if you do not have a GPU set up on your machine.\n"
     ]
    }
   ],
   "source": [
    "import os\n",
    "import keras\n",
    "import random"
   ]
  },
  {
   "cell_type": "code",
   "execution_count": 2,
   "id": "e91840fa",
   "metadata": {},
   "outputs": [],
   "source": [
    "classes = {0: \"falaise\" , 1: \"batiment\", 2:\"route\",3:\"pierrier\",4:\"verger\",\n",
    "            5:\"champ\",6:\"prairie\",7:\"foret\",8:\"foret_claire\",9:\"buisson\",10:\"eau\"}"
   ]
  },
  {
   "cell_type": "code",
   "execution_count": 3,
   "id": "b9da5d2e",
   "metadata": {},
   "outputs": [
    {
     "name": "stdout",
     "output_type": "stream",
     "text": [
      "Segmentation Models: using `keras` framework.\n"
     ]
    }
   ],
   "source": [
    "import numpy as np\n",
    "import tensorflow as tf\n",
    "from keras import backend as K\n",
    "import matplotlib.pyplot as plt\n",
    "import segmentation_models as sm\n",
    "from utils import visualize, freeze_session\n",
    "from data_loader import Dataset, Dataloader\n",
    "from keras.backend import set_session\n",
    "from augmentation import *"
   ]
  },
  {
   "cell_type": "markdown",
   "id": "5bdd2fb1",
   "metadata": {},
   "source": [
    "correspondance = {0:0,1:9,2:5,3:10,4:0,5:7,6:8,7:3,8:6,9:2,10:4,11:1}\n",
    "\n",
    "f = lambda x : correspondance[x]\n",
    "vfunc = np.vectorize(f)\n",
    "\n",
    "a = np.array([1,2,3])\n",
    "vfunc = np.vectorize(f)\n",
    "vfunc(a)\n",
    "\n",
    "import cv2\n",
    "import glob\n",
    "import re\n",
    "\n",
    "arr_a = glob.glob(\"Synthese_plus_Real/Train/images/*\")\n",
    "arr_i = glob.glob(\"Synthese_plus_Real/Valid/images/*\")\n",
    "\n",
    "for path in arr_a:\n",
    "    img = cv2.imread(path)\n",
    "    path = re.sub(\".tiff\",\".png\",path)\n",
    "    cv2.imwrite(path,img)\n",
    "    \n",
    "for path in arr_i:\n",
    "    img = cv2.imread(path)\n",
    "    path = re.sub(\".tiff\",\".png\",path)\n",
    "    cv2.imwrite(path,img)"
   ]
  },
  {
   "cell_type": "code",
   "execution_count": 11,
   "id": "8edd5be3",
   "metadata": {},
   "outputs": [
    {
     "name": "stdout",
     "output_type": "stream",
     "text": [
      "/home/hugo/new_ampli/Synthese_plus_Real\n"
     ]
    }
   ],
   "source": [
    "%cd Synthese_plus_Real"
   ]
  },
  {
   "cell_type": "code",
   "execution_count": 12,
   "id": "5a9ae057",
   "metadata": {},
   "outputs": [],
   "source": [
    "import shutil\n",
    "\n",
    "for i in arr:\n",
    "    ibis = i + 250\n",
    "    shutil.copyfile(\"images/{}.png\".format(str(i)),\"Train/images/{}.png\".format(str(i)))\n",
    "    shutil.copyfile(\"masks/{}.png\".format(str(i)),\"Train/masks/{}.png\".format(str(i)))"
   ]
  },
  {
   "cell_type": "code",
   "execution_count": 13,
   "id": "8cc3be5c",
   "metadata": {},
   "outputs": [
    {
     "name": "stderr",
     "output_type": "stream",
     "text": [
      "2022-07-06 17:03:44.069773: I tensorflow/core/platform/cpu_feature_guard.cc:193] This TensorFlow binary is optimized with oneAPI Deep Neural Network Library (oneDNN) to use the following CPU instructions in performance-critical operations:  AVX2 AVX512F AVX512_VNNI FMA\n",
      "To enable them in other operations, rebuild TensorFlow with the appropriate compiler flags.\n",
      "2022-07-06 17:03:44.157857: W tensorflow/stream_executor/platform/default/dso_loader.cc:64] Could not load dynamic library 'libcudart.so.11.0'; dlerror: libcudart.so.11.0: cannot open shared object file: No such file or directory; LD_LIBRARY_PATH: /home/hugo/new_ampli/env/lib/python3.9/site-packages/cv2/../../lib64:\n",
      "2022-07-06 17:03:44.157941: W tensorflow/stream_executor/platform/default/dso_loader.cc:64] Could not load dynamic library 'libcublas.so.11'; dlerror: libcublas.so.11: cannot open shared object file: No such file or directory; LD_LIBRARY_PATH: /home/hugo/new_ampli/env/lib/python3.9/site-packages/cv2/../../lib64:\n",
      "2022-07-06 17:03:44.157979: W tensorflow/stream_executor/platform/default/dso_loader.cc:64] Could not load dynamic library 'libcublasLt.so.11'; dlerror: libcublasLt.so.11: cannot open shared object file: No such file or directory; LD_LIBRARY_PATH: /home/hugo/new_ampli/env/lib/python3.9/site-packages/cv2/../../lib64:\n",
      "2022-07-06 17:03:44.158016: W tensorflow/stream_executor/platform/default/dso_loader.cc:64] Could not load dynamic library 'libcufft.so.10'; dlerror: libcufft.so.10: cannot open shared object file: No such file or directory; LD_LIBRARY_PATH: /home/hugo/new_ampli/env/lib/python3.9/site-packages/cv2/../../lib64:\n",
      "2022-07-06 17:03:44.158074: W tensorflow/stream_executor/platform/default/dso_loader.cc:64] Could not load dynamic library 'libcurand.so.10'; dlerror: libcurand.so.10: cannot open shared object file: No such file or directory; LD_LIBRARY_PATH: /home/hugo/new_ampli/env/lib/python3.9/site-packages/cv2/../../lib64:\n",
      "2022-07-06 17:03:44.158113: W tensorflow/stream_executor/platform/default/dso_loader.cc:64] Could not load dynamic library 'libcusolver.so.11'; dlerror: libcusolver.so.11: cannot open shared object file: No such file or directory; LD_LIBRARY_PATH: /home/hugo/new_ampli/env/lib/python3.9/site-packages/cv2/../../lib64:\n",
      "2022-07-06 17:03:44.158153: W tensorflow/stream_executor/platform/default/dso_loader.cc:64] Could not load dynamic library 'libcusparse.so.11'; dlerror: libcusparse.so.11: cannot open shared object file: No such file or directory; LD_LIBRARY_PATH: /home/hugo/new_ampli/env/lib/python3.9/site-packages/cv2/../../lib64:\n",
      "2022-07-06 17:03:44.158192: W tensorflow/stream_executor/platform/default/dso_loader.cc:64] Could not load dynamic library 'libcudnn.so.8'; dlerror: libcudnn.so.8: cannot open shared object file: No such file or directory; LD_LIBRARY_PATH: /home/hugo/new_ampli/env/lib/python3.9/site-packages/cv2/../../lib64:\n",
      "2022-07-06 17:03:44.158209: W tensorflow/core/common_runtime/gpu/gpu_device.cc:1850] Cannot dlopen some GPU libraries. Please make sure the missing libraries mentioned above are installed properly if you would like to use GPU. Follow the guide at https://www.tensorflow.org/install/gpu for how to download and setup the required libraries for your platform.\n",
      "Skipping registering GPU devices...\n"
     ]
    }
   ],
   "source": [
    "# Tensorflow session\n",
    "config = tf.compat.v1.ConfigProto()\n",
    "config.gpu_options.allow_growth = True  # dynamically grow the memory used on the GPU\n",
    "config.log_device_placement = False  # to log device placement (on which device the operation ran)\n",
    "sess = tf.compat.v1.Session(config=config)\n",
    "set_session(sess)  # set this TensorFlow session as the default session for Keras\n",
    "\n",
    "train_dir = \"Synthese_plus_Real/Train/\"\n",
    "test_dir = \"Real/Valid/\"\n",
    "result_dir = \"Synthese_plus_Real/Result/\"\n",
    "image_size = 512\n",
    "image_channels = 3\n",
    "padding_size = 800\n",
    "n_classes = 11\n",
    "\n",
    "# model parameters\n",
    "BACKBONE = 'efficientnetb3'\n",
    "BATCH_SIZE = 8\n",
    "LR = 0.0005\n",
    "EPOCHS = 40\n",
    "activation ='softmax'"
   ]
  },
  {
   "cell_type": "code",
   "execution_count": 14,
   "id": "6aa8dd92",
   "metadata": {},
   "outputs": [
    {
     "name": "stderr",
     "output_type": "stream",
     "text": [
      "/home/hugo/new_ampli/env/lib/python3.9/site-packages/albumentations/augmentations/transforms.py:2029: UserWarning: Using lambda is incompatible with multiprocessing. Consider using regular functions or partial().\n",
      "  warnings.warn('Using lambda is incompatible with multiprocessing. '\n"
     ]
    }
   ],
   "source": [
    "if not os.path.exists(result_dir):\n",
    "    os.mkdir(result_dir)\n",
    "    \n",
    "x_train_dir = os.path.join(train_dir, 'images')\n",
    "y_train_dir = os.path.join(train_dir, 'masks')\n",
    "x_valid_dir = os.path.join(test_dir, 'images')\n",
    "y_valid_dir = os.path.join(test_dir, 'masks')\n",
    "\n",
    "\n",
    "# define network parameters \n",
    "preprocess_input = sm.get_preprocessing(BACKBONE)\n",
    "\n",
    "# Dataset for train images\n",
    "train_dataset = Dataset(\n",
    "    x_train_dir, \n",
    "    y_train_dir, \n",
    "    classes=n_classes, \n",
    "    augmentation=False,\n",
    "    preprocessing=get_preprocessing(preprocess_input),\n",
    "    #preprocessing=False,\n",
    ")\n",
    "\n",
    "# Dataset for validation images\n",
    "valid_dataset = Dataset(\n",
    "    x_valid_dir, \n",
    "    y_valid_dir, \n",
    "    classes=n_classes, \n",
    "    augmentation=False,\n",
    "    preprocessing=get_preprocessing(preprocess_input),\n",
    "    #preprocessing=False,\n",
    ")"
   ]
  },
  {
   "cell_type": "code",
   "execution_count": 15,
   "id": "c667cdfd",
   "metadata": {},
   "outputs": [
    {
     "name": "stderr",
     "output_type": "stream",
     "text": [
      "2022-07-06 17:03:47.200297: W tensorflow/core/common_runtime/gpu/gpu_device.cc:1850] Cannot dlopen some GPU libraries. Please make sure the missing libraries mentioned above are installed properly if you would like to use GPU. Follow the guide at https://www.tensorflow.org/install/gpu for how to download and setup the required libraries for your platform.\n",
      "Skipping registering GPU devices...\n"
     ]
    }
   ],
   "source": [
    "#create model\n",
    "model = sm.Unet(BACKBONE,classes=n_classes, activation=activation)\n",
    "\n",
    "# define optomizer\n",
    "optim = keras.optimizers.Adam(LR)\n",
    "\n",
    "# Segmentation models losses can be combined together by '+' and scaled by integer or float factor\n",
    "dice_loss = sm.losses.DiceLoss(class_weights=np.ones(n_classes)) \n",
    "focal_loss = sm.losses.CategoricalFocalLoss()\n",
    "total_loss = dice_loss + (1 * focal_loss)\n",
    "\n",
    "metrics = [sm.metrics.IOUScore(threshold=0.5), sm.metrics.FScore(threshold=0.5)]\n",
    "\n",
    "# compile keras model with defined optimozer, loss and metrics\n",
    "model.compile(optim, total_loss, metrics)"
   ]
  },
  {
   "cell_type": "code",
   "execution_count": 16,
   "id": "195e1aff",
   "metadata": {},
   "outputs": [],
   "source": [
    "BATCH_SIZE = 8\n",
    "#Dataloaders\n",
    "train_dataloader = Dataloader(train_dataset, batch_size=BATCH_SIZE, shuffle=True)\n",
    "valid_dataloader = Dataloader(valid_dataset, batch_size=1, shuffle=False)\n",
    "\n",
    "# check shapes for errors\n",
    "assert train_dataloader[0][0].shape == (BATCH_SIZE, image_size, image_size, image_channels)\n",
    "assert train_dataloader[0][1].shape == (BATCH_SIZE, image_size, image_size, n_classes)\n"
   ]
  },
  {
   "cell_type": "code",
   "execution_count": 17,
   "id": "22095eac",
   "metadata": {},
   "outputs": [
    {
     "name": "stdout",
     "output_type": "stream",
     "text": [
      "Epoch 1/40\n",
      "25/25 [==============================] - 239s 9s/step - loss: 1.0988 - iou_score: 0.0824 - f1-score: 0.1238 - val_loss: 1.1735 - val_iou_score: 0.1352 - val_f1-score: 0.1505 - lr: 5.0000e-04\n",
      "Epoch 2/40\n",
      "25/25 [==============================] - 211s 8s/step - loss: 0.9282 - iou_score: 0.1385 - f1-score: 0.2038 - val_loss: 1.1492 - val_iou_score: 0.1667 - val_f1-score: 0.1817 - lr: 5.0000e-04\n",
      "Epoch 3/40\n",
      "25/25 [==============================] - 201s 8s/step - loss: 0.8699 - iou_score: 0.1685 - f1-score: 0.2384 - val_loss: 1.1406 - val_iou_score: 0.1668 - val_f1-score: 0.1849 - lr: 5.0000e-04\n",
      "Epoch 4/40\n",
      "25/25 [==============================] - 200s 8s/step - loss: 0.8231 - iou_score: 0.1917 - f1-score: 0.2733 - val_loss: 1.1167 - val_iou_score: 0.1887 - val_f1-score: 0.2090 - lr: 5.0000e-04\n",
      "Epoch 5/40\n",
      "25/25 [==============================] - 207s 8s/step - loss: 0.7747 - iou_score: 0.2132 - f1-score: 0.3034 - val_loss: 1.1041 - val_iou_score: 0.1810 - val_f1-score: 0.2008 - lr: 5.0000e-04\n",
      "Epoch 6/40\n",
      "25/25 [==============================] - 215s 9s/step - loss: 0.7366 - iou_score: 0.2428 - f1-score: 0.3380 - val_loss: 1.0809 - val_iou_score: 0.1950 - val_f1-score: 0.2150 - lr: 5.0000e-04\n",
      "Epoch 7/40\n",
      "25/25 [==============================] - 224s 9s/step - loss: 0.7164 - iou_score: 0.2607 - f1-score: 0.3553 - val_loss: 1.0792 - val_iou_score: 0.1858 - val_f1-score: 0.2061 - lr: 5.0000e-04\n",
      "Epoch 8/40\n",
      "25/25 [==============================] - 214s 9s/step - loss: 0.6944 - iou_score: 0.2757 - f1-score: 0.3738 - val_loss: 1.0286 - val_iou_score: 0.1675 - val_f1-score: 0.1889 - lr: 5.0000e-04\n",
      "Epoch 9/40\n",
      "25/25 [==============================] - 214s 9s/step - loss: 0.6708 - iou_score: 0.2949 - f1-score: 0.3950 - val_loss: 1.0539 - val_iou_score: 0.1838 - val_f1-score: 0.2081 - lr: 5.0000e-04\n",
      "Epoch 10/40\n",
      "25/25 [==============================] - 215s 9s/step - loss: 0.6485 - iou_score: 0.3182 - f1-score: 0.4167 - val_loss: 1.0258 - val_iou_score: 0.1946 - val_f1-score: 0.2195 - lr: 5.0000e-04\n",
      "Epoch 11/40\n",
      "25/25 [==============================] - 216s 9s/step - loss: 0.6291 - iou_score: 0.3431 - f1-score: 0.4407 - val_loss: 1.0145 - val_iou_score: 0.2019 - val_f1-score: 0.2274 - lr: 5.0000e-04\n",
      "Epoch 12/40\n",
      "25/25 [==============================] - 212s 8s/step - loss: 0.6066 - iou_score: 0.3564 - f1-score: 0.4532 - val_loss: 0.9961 - val_iou_score: 0.1916 - val_f1-score: 0.2175 - lr: 5.0000e-04\n",
      "Epoch 13/40\n",
      "25/25 [==============================] - 212s 8s/step - loss: 0.5956 - iou_score: 0.3731 - f1-score: 0.4682 - val_loss: 1.0028 - val_iou_score: 0.2030 - val_f1-score: 0.2310 - lr: 5.0000e-04\n",
      "Epoch 14/40\n",
      "25/25 [==============================] - 211s 8s/step - loss: 0.5790 - iou_score: 0.3779 - f1-score: 0.4745 - val_loss: 1.0007 - val_iou_score: 0.2046 - val_f1-score: 0.2313 - lr: 5.0000e-04\n",
      "Epoch 15/40\n",
      "25/25 [==============================] - 211s 8s/step - loss: 0.5615 - iou_score: 0.4001 - f1-score: 0.4984 - val_loss: 1.0026 - val_iou_score: 0.2011 - val_f1-score: 0.2296 - lr: 5.0000e-04\n",
      "Epoch 16/40\n",
      "25/25 [==============================] - 206s 8s/step - loss: 0.5411 - iou_score: 0.4223 - f1-score: 0.5213 - val_loss: 1.0127 - val_iou_score: 0.2343 - val_f1-score: 0.2609 - lr: 5.0000e-04\n",
      "Epoch 17/40\n",
      "25/25 [==============================] - 204s 8s/step - loss: 0.5301 - iou_score: 0.4215 - f1-score: 0.5204 - val_loss: 0.9937 - val_iou_score: 0.2217 - val_f1-score: 0.2483 - lr: 5.0000e-04\n",
      "Epoch 18/40\n",
      "25/25 [==============================] - 199s 8s/step - loss: 0.5324 - iou_score: 0.4225 - f1-score: 0.5217 - val_loss: 0.9972 - val_iou_score: 0.2277 - val_f1-score: 0.2550 - lr: 5.0000e-04\n",
      "Epoch 19/40\n",
      "25/25 [==============================] - 197s 8s/step - loss: 0.5077 - iou_score: 0.4490 - f1-score: 0.5464 - val_loss: 1.0015 - val_iou_score: 0.2082 - val_f1-score: 0.2353 - lr: 5.0000e-04\n",
      "Epoch 20/40\n",
      "25/25 [==============================] - 197s 8s/step - loss: 0.4965 - iou_score: 0.4615 - f1-score: 0.5574 - val_loss: 1.0152 - val_iou_score: 0.2247 - val_f1-score: 0.2510 - lr: 5.0000e-04\n",
      "Epoch 21/40\n",
      "25/25 [==============================] - 197s 8s/step - loss: 0.4884 - iou_score: 0.4778 - f1-score: 0.5749 - val_loss: 1.0142 - val_iou_score: 0.2258 - val_f1-score: 0.2524 - lr: 5.0000e-04\n",
      "Epoch 22/40\n",
      "25/25 [==============================] - 195s 8s/step - loss: 0.4626 - iou_score: 0.4913 - f1-score: 0.5860 - val_loss: 1.0074 - val_iou_score: 0.2081 - val_f1-score: 0.2339 - lr: 5.0000e-04\n",
      "Epoch 23/40\n",
      "25/25 [==============================] - 194s 8s/step - loss: 0.4523 - iou_score: 0.5162 - f1-score: 0.6092 - val_loss: 1.0238 - val_iou_score: 0.2218 - val_f1-score: 0.2479 - lr: 5.0000e-04\n",
      "Epoch 24/40\n",
      "25/25 [==============================] - 194s 8s/step - loss: 0.4525 - iou_score: 0.5069 - f1-score: 0.6000 - val_loss: 1.0060 - val_iou_score: 0.2579 - val_f1-score: 0.2860 - lr: 5.0000e-04\n",
      "Epoch 25/40\n",
      "25/25 [==============================] - 195s 8s/step - loss: 0.4463 - iou_score: 0.5249 - f1-score: 0.6164 - val_loss: 1.0037 - val_iou_score: 0.2419 - val_f1-score: 0.2713 - lr: 5.0000e-04\n",
      "Epoch 26/40\n",
      "25/25 [==============================] - 196s 8s/step - loss: 0.4294 - iou_score: 0.5245 - f1-score: 0.6133 - val_loss: 1.0139 - val_iou_score: 0.2315 - val_f1-score: 0.2587 - lr: 5.0000e-04\n",
      "Epoch 27/40\n",
      "25/25 [==============================] - 196s 8s/step - loss: 0.4299 - iou_score: 0.5329 - f1-score: 0.6227 - val_loss: 1.0180 - val_iou_score: 0.2369 - val_f1-score: 0.2627 - lr: 5.0000e-04\n",
      "Epoch 28/40\n",
      "25/25 [==============================] - 197s 8s/step - loss: 0.4134 - iou_score: 0.5548 - f1-score: 0.6406 - val_loss: 1.0142 - val_iou_score: 0.2346 - val_f1-score: 0.2607 - lr: 5.0000e-05\n",
      "Epoch 29/40\n",
      "25/25 [==============================] - 196s 8s/step - loss: 0.4027 - iou_score: 0.5702 - f1-score: 0.6536 - val_loss: 1.0147 - val_iou_score: 0.2357 - val_f1-score: 0.2620 - lr: 5.0000e-05\n",
      "Epoch 30/40\n",
      "25/25 [==============================] - 197s 8s/step - loss: 0.4003 - iou_score: 0.5622 - f1-score: 0.6449 - val_loss: 1.0137 - val_iou_score: 0.2320 - val_f1-score: 0.2588 - lr: 5.0000e-05\n",
      "Epoch 31/40\n",
      "25/25 [==============================] - 198s 8s/step - loss: 0.3943 - iou_score: 0.5759 - f1-score: 0.6573 - val_loss: 1.0134 - val_iou_score: 0.2326 - val_f1-score: 0.2596 - lr: 5.0000e-05\n",
      "Epoch 32/40\n",
      "25/25 [==============================] - 197s 8s/step - loss: 0.3931 - iou_score: 0.5729 - f1-score: 0.6547 - val_loss: 1.0148 - val_iou_score: 0.2362 - val_f1-score: 0.2630 - lr: 5.0000e-05\n",
      "Epoch 33/40\n",
      "25/25 [==============================] - 198s 8s/step - loss: 0.3923 - iou_score: 0.5741 - f1-score: 0.6553 - val_loss: 1.0135 - val_iou_score: 0.2289 - val_f1-score: 0.2560 - lr: 5.0000e-05\n",
      "Epoch 34/40\n",
      "25/25 [==============================] - 199s 8s/step - loss: 0.3875 - iou_score: 0.5796 - f1-score: 0.6594 - val_loss: 1.0127 - val_iou_score: 0.2286 - val_f1-score: 0.2557 - lr: 5.0000e-05\n",
      "Epoch 35/40\n",
      "25/25 [==============================] - 199s 8s/step - loss: 0.3915 - iou_score: 0.5788 - f1-score: 0.6595 - val_loss: 1.0126 - val_iou_score: 0.2347 - val_f1-score: 0.2619 - lr: 5.0000e-05\n",
      "Epoch 36/40\n",
      "25/25 [==============================] - 199s 8s/step - loss: 0.3866 - iou_score: 0.5803 - f1-score: 0.6602 - val_loss: 1.0111 - val_iou_score: 0.2325 - val_f1-score: 0.2600 - lr: 5.0000e-05\n",
      "Epoch 37/40\n",
      "25/25 [==============================] - 195s 8s/step - loss: 0.3857 - iou_score: 0.5810 - f1-score: 0.6607 - val_loss: 1.0103 - val_iou_score: 0.2350 - val_f1-score: 0.2624 - lr: 5.0000e-05\n",
      "Epoch 38/40\n",
      "25/25 [==============================] - 196s 8s/step - loss: 0.3819 - iou_score: 0.5890 - f1-score: 0.6676 - val_loss: 1.0108 - val_iou_score: 0.2350 - val_f1-score: 0.2624 - lr: 5.0000e-06\n",
      "Epoch 39/40\n",
      "25/25 [==============================] - 197s 8s/step - loss: 0.3815 - iou_score: 0.5783 - f1-score: 0.6572 - val_loss: 1.0118 - val_iou_score: 0.2361 - val_f1-score: 0.2635 - lr: 5.0000e-06\n",
      "Epoch 40/40\n",
      "25/25 [==============================] - 195s 8s/step - loss: 0.3806 - iou_score: 0.5905 - f1-score: 0.6687 - val_loss: 1.0123 - val_iou_score: 0.2360 - val_f1-score: 0.2633 - lr: 5.0000e-06\n"
     ]
    }
   ],
   "source": [
    "# define callbacks for learning rate scheduling and best checkpoints saving\n",
    "callbacks = [\n",
    "    keras.callbacks.ModelCheckpoint(os.path.join(result_dir,'best_model.h5'), save_weights_only=True, save_best_only=True, mode='min'),\n",
    "    keras.callbacks.ReduceLROnPlateau(),\n",
    "]\n",
    "\n",
    "from keras.models import load_model\n",
    "\n",
    "model.load_weights('Synthese2/Result/best_model.h5')\n",
    "\n",
    "# train model\n",
    "history = model.fit(\n",
    "    train_dataloader, \n",
    "    steps_per_epoch=len(train_dataloader), \n",
    "    epochs=EPOCHS, \n",
    "    callbacks=callbacks, \n",
    "    validation_data=valid_dataloader, \n",
    "    validation_steps=len(valid_dataloader),\n",
    ")"
   ]
  },
  {
   "cell_type": "code",
   "execution_count": 18,
   "id": "783b1ba0",
   "metadata": {},
   "outputs": [
    {
     "data": {
      "image/png": "[encoded data removed]",
      "text/plain": [
       "<Figure size 2160x360 with 2 Axes>"
      ]
     },
     "metadata": {
      "needs_background": "light"
     },
     "output_type": "display_data"
    }
   ],
   "source": [
    "# Plot training & validation iou_score values\n",
    "plt.figure(figsize=(30, 5))\n",
    "plt.subplot(121)\n",
    "plt.plot(history.history['iou_score'])\n",
    "plt.plot(history.history['val_iou_score'])\n",
    "plt.title('Model iou_score')\n",
    "plt.ylabel('iou_score')\n",
    "plt.xlabel('Epoch')\n",
    "plt.legend(['Train', 'Test'], loc='upper left')\n",
    "\n",
    "# Plot training & validation loss values\n",
    "plt.subplot(122)\n",
    "plt.plot(history.history['loss'])\n",
    "plt.plot(history.history['val_loss'])\n",
    "plt.title('Model loss')\n",
    "plt.ylabel('Loss')\n",
    "plt.xlabel('Epoch')\n",
    "plt.legend(['Train', 'Test'], loc='upper left')\n",
    "plt.savefig(os.path.join(result_dir,'UNET-Training.png'))\n",
    "plt.show()\n",
    "\n",
    "#Save model as Tensorflow frozen graph\n",
    "#frozen_graph = freeze_session(K.get_session(),output_names=[out.op.name for out in model.outputs])\n",
    "#tf.train.write_graph(frozen_graph, result_dir , \"best_model.pb\", as_text=False)"
   ]
  },
  {
   "cell_type": "code",
   "execution_count": null,
   "id": "2ad23da3",
   "metadata": {},
   "outputs": [],
   "source": [
    "from tensorflow.python.client import device_lib\n",
    "print(device_lib.list_local_devices())"
   ]
  },
  {
   "cell_type": "raw",
   "id": "9f3da271",
   "metadata": {},
   "source": [
    "Modèle entrainé sur le jeu validation de synthese testé sur le Jeu de Synthese"
   ]
  },
  {
   "cell_type": "code",
   "execution_count": null,
   "id": "dcecd06f",
   "metadata": {},
   "outputs": [],
   "source": [
    "model.load_weights(os.path.join(result_dir,'best_model.h5'))"
   ]
  },
  {
   "cell_type": "code",
   "execution_count": null,
   "id": "ce989a87",
   "metadata": {},
   "outputs": [],
   "source": [
    "valid_imgs=[]\n",
    "valid_labels=[]\n",
    "\n",
    "for img,label in valid_dataset:\n",
    "    valid_imgs.append(img)\n",
    "    valid_labels.append(label)\n",
    "    \n",
    "valid_imgs = np.array(valid_imgs)\n",
    "valid_labels = np.array(valid_labels)"
   ]
  },
  {
   "cell_type": "code",
   "execution_count": null,
   "id": "23cdd45c",
   "metadata": {},
   "outputs": [],
   "source": [
    "predictions = model.predict(valid_imgs)"
   ]
  },
  {
   "cell_type": "code",
   "execution_count": null,
   "id": "588d7d00",
   "metadata": {},
   "outputs": [],
   "source": [
    "valid_labels.shape"
   ]
  },
  {
   "cell_type": "code",
   "execution_count": null,
   "id": "15034abb",
   "metadata": {},
   "outputs": [],
   "source": [
    "true_label = np.argmax(valid_labels,axis=3)\n",
    "label_pred = np.argmax(predictions,axis=3)"
   ]
  },
  {
   "cell_type": "code",
   "execution_count": null,
   "id": "31ced419",
   "metadata": {},
   "outputs": [],
   "source": [
    "i=random.choice(range(len(valid_imgs)-1))\n",
    "print(i)\n",
    "\n",
    "plt.figure(figsize=(15, 5))\n",
    "plt.subplot(131)\n",
    "plt.imshow(label_pred[i])\n",
    "plt.gca().set_title(\"Prédiction\")\n",
    "\n",
    "plt.subplot(132)\n",
    "plt.imshow(true_label[i])\n",
    "plt.gca().set_title(\"Label\")\n",
    "\n",
    "plt.subplot(133)\n",
    "plt.imshow(valid_imgs[i])\n",
    "plt.gca().set_title(\"images\")\n",
    "plt.show()"
   ]
  },
  {
   "cell_type": "code",
   "execution_count": null,
   "id": "a0fd71ca",
   "metadata": {},
   "outputs": [],
   "source": [
    "np.unique(valid_labels)"
   ]
  },
  {
   "cell_type": "code",
   "execution_count": null,
   "id": "3c82b1d2",
   "metadata": {},
   "outputs": [],
   "source": [
    "np.unique(label_pred)"
   ]
  },
  {
   "cell_type": "markdown",
   "id": "dac0dfd0",
   "metadata": {},
   "source": [
    "### Avec seuil"
   ]
  },
  {
   "cell_type": "code",
   "execution_count": null,
   "id": "c6ec46cc",
   "metadata": {},
   "outputs": [],
   "source": [
    "ious = []\n",
    "threshold_iou = [0.01,0.05,0.1,0.15,0.2,\n",
    "                 0.25,0.3,0.35,0.4,0.45,0.5,\n",
    "                 0.55,0.6,0.65,0.7,0.75,0.8]\n",
    "\n",
    "for threshold in threshold_iou:\n",
    "    iou = []\n",
    "    for idx_classe in range(1,11):\n",
    "        prediction = np.where(predictions[...,idx_classe]<= threshold,0,1)\n",
    "        target = valid_labels[...,idx_classe]\n",
    "\n",
    "        intersection = np.logical_and(target,prediction)\n",
    "        union = np.logical_or(target,prediction)\n",
    "        iou_score = np.sum(intersection) / np.sum(union)\n",
    "\n",
    "        # print(\"iou score for class\", classes[idx_classe], \": with 0.5 threshold \",iou_score)\n",
    "        iou.append(iou_score)\n",
    "    ious.append(np.mean(iou))\n",
    "    \n",
    "plt.plot(threshold_iou,ious)\n",
    "plt.gca().set_title(\"Finding best confidence threshold for class except background\")\n",
    "plt.show()"
   ]
  },
  {
   "cell_type": "code",
   "execution_count": null,
   "id": "e2af0f1d",
   "metadata": {},
   "outputs": [],
   "source": [
    "best_threshold = 0.5"
   ]
  },
  {
   "cell_type": "code",
   "execution_count": null,
   "id": "9b458f12",
   "metadata": {},
   "outputs": [],
   "source": [
    "conf_mat = np.zeros((11,11))\n",
    "\n",
    "for idx_pred_class in range(11):\n",
    "    for idx_target_class in range(11):\n",
    "        prediction = np.where(predictions[...,idx_pred_class]<= best_threshold,0,1)\n",
    "        target = valid_labels[...,idx_target_class]\n",
    "\n",
    "        intersection = np.logical_and(target,prediction)\n",
    "        conf_mat[idx_pred_class,idx_target_class] = np.sum(intersection)"
   ]
  },
  {
   "cell_type": "code",
   "execution_count": null,
   "id": "5685124b",
   "metadata": {},
   "outputs": [],
   "source": [
    "(np.sum(conf_mat.flatten()) - len(valid_imgs)*SIZE[0]*SIZE[1]) / "
   ]
  },
  {
   "cell_type": "markdown",
   "id": "b74639bd",
   "metadata": {},
   "source": [
    "### Avec l'Argmax"
   ]
  },
  {
   "cell_type": "code",
   "execution_count": null,
   "id": "7bccc31e",
   "metadata": {},
   "outputs": [],
   "source": [
    "classes = {0: \"falaise\" , 1: \"batiment\", 2:\"route\",3:\"pierrier\",4:\"verger\",\n",
    "            5:\"champ\",6:\"prairie\",7:\"foret\",8:\"foret_claire\",9:\"buisson\",10:\"eau\"}\n",
    "classe = list(classes.values())"
   ]
  },
  {
   "cell_type": "code",
   "execution_count": null,
   "id": "69db7d28",
   "metadata": {},
   "outputs": [],
   "source": [
    "prediction = np.zeros(predictions.shape)\n",
    "\n",
    "for idx_class in range(11):\n",
    "    prediction[...,idx_class][label_pred == idx_class] = 1"
   ]
  },
  {
   "cell_type": "code",
   "execution_count": null,
   "id": "b3bcb742",
   "metadata": {},
   "outputs": [],
   "source": [
    "iou = {}\n",
    "for idx_classe in range(11):\n",
    "    target = valid_labels[...,idx_classe]\n",
    "\n",
    "    intersection = np.logical_and(target,prediction[...,idx_classe])\n",
    "    union = np.logical_or(target,prediction[...,idx_classe])\n",
    "    iou_score = np.sum(intersection) / np.sum(union)\n",
    "\n",
    "    iou[classe[idx_classe]] = iou_score\n",
    "print(iou)\n",
    "    \n",
    "print(\"mIou: \", np.mean(list(iou.values())))"
   ]
  },
  {
   "cell_type": "code",
   "execution_count": null,
   "id": "b09454ba",
   "metadata": {},
   "outputs": [],
   "source": [
    "conf_mat = np.zeros((11,11))\n",
    "\n",
    "for idx_pred_class in range(11):\n",
    "    for idx_target_class in range(11):\n",
    "        target = valid_labels[...,idx_target_class]\n",
    "\n",
    "        intersection = np.logical_and(target,prediction[...,idx_pred_class])\n",
    "        conf_mat[idx_pred_class,idx_target_class] = np.sum(intersection)"
   ]
  },
  {
   "cell_type": "code",
   "execution_count": null,
   "id": "b8125c06",
   "metadata": {},
   "outputs": [],
   "source": [
    "data = conf_mat\n",
    "\n",
    "fig = plt.figure(figsize=(25,25))\n",
    "ax = fig.add_subplot(111)\n",
    "cax = ax.matshow(data, interpolation='nearest')\n",
    "fig.colorbar(cax)\n",
    "\n",
    "for i in range(len(data)):\n",
    "    for j in range(len(data)):\n",
    "        c = data[j,i]\n",
    "        ax.text(i, j, str(round(c,2)), va='center', ha='center',\n",
    "                color=\"red\",size = \"large\")\n",
    "        \n",
    "plt.xticks(range(11), classe, rotation='vertical')\n",
    "plt.yticks(range(11), classe, rotation='horizontal')\n",
    "plt.xlabel('Réalité', fontsize=20)\n",
    "plt.gca().xaxis.set_label_position('top') \n",
    "plt.ylabel('Prediction', fontsize=20)\n",
    "plt.gca().set_title(\"Matrice de confusion avec le nombre d'effectifs\", fontsize=25)\n",
    "plt.show()\n",
    "plt.show()"
   ]
  },
  {
   "cell_type": "code",
   "execution_count": null,
   "id": "046ff22e",
   "metadata": {},
   "outputs": [],
   "source": [
    "conf_mat_norm = conf_mat.T/conf_mat.sum(axis=1)\n",
    "\n",
    "conf_mat_norm = conf_mat_norm.T\n",
    "\n",
    "data = conf_mat_norm\n",
    "\n",
    "fig = plt.figure(figsize=(25,25))\n",
    "ax = fig.add_subplot(111)\n",
    "cax = ax.matshow(data, interpolation='nearest')\n",
    "fig.colorbar(cax)\n",
    "\n",
    "for i in range(len(data)):\n",
    "    for j in range(len(data)):\n",
    "        c = data[j,i]\n",
    "        ax.text(i, j, str(round(c,2)), va='center', ha='center',\n",
    "                color=\"red\",size = \"large\")\n",
    "        \n",
    "plt.xticks(range(11), classe, rotation='vertical')\n",
    "plt.yticks(range(11), classe, rotation='horizontal')\n",
    "plt.xlabel('Réalité', fontsize=20)\n",
    "plt.gca().xaxis.set_label_position('top') \n",
    "plt.ylabel('Prediction', fontsize=20)\n",
    "plt.gca().set_title(\"Etudes des FP\", fontsize=25)\n",
    "plt.show()\n",
    "plt.show()"
   ]
  },
  {
   "cell_type": "code",
   "execution_count": null,
   "id": "c433d7f9",
   "metadata": {},
   "outputs": [],
   "source": [
    "conf_mat_norm_bis = conf_mat / conf_mat.sum(axis=0)\n",
    "\n",
    "data = conf_mat_norm_bis\n",
    "\n",
    "fig = plt.figure(figsize=(25,25))\n",
    "ax = fig.add_subplot(111)\n",
    "cax = ax.matshow(data, interpolation='nearest')\n",
    "fig.colorbar(cax)\n",
    "\n",
    "for i in range(len(data)):\n",
    "    for j in range(len(data)):\n",
    "        c = data[j,i]\n",
    "        ax.text(i, j, str(round(c,2)), va='center', ha='center',\n",
    "                color=\"red\",size = \"large\")\n",
    "        \n",
    "plt.xticks(range(11), classe, rotation='vertical')\n",
    "plt.yticks(range(11), classe, rotation='horizontal')\n",
    "plt.xlabel('Réalité', fontsize=20)\n",
    "plt.gca().xaxis.set_label_position('top') \n",
    "plt.ylabel('Prediction', fontsize=20)\n",
    "plt.gca().set_title(\"Etudes des FN\", fontsize=25)\n",
    "plt.show()\n",
    "plt.show()"
   ]
  },
  {
   "cell_type": "code",
   "execution_count": null,
   "id": "3b033eee",
   "metadata": {},
   "outputs": [],
   "source": [
    "dico = {}\n",
    "for key in classes:\n",
    "    precision = conf_mat[key,key]/np.sum(conf_mat[key,:])\n",
    "    recall = conf_mat[key,key]/np.sum(conf_mat[:,key])\n",
    "    f1score = 2 * precision * recall /(precision + recall)\n",
    "    dico[classes[key]] = {\"precision\":precision,\"recall\":recall,\"f1\":f1score}\n",
    "    \n",
    "dico"
   ]
  },
  {
   "cell_type": "code",
   "execution_count": null,
   "id": "d917b7ae",
   "metadata": {},
   "outputs": [],
   "source": [
    "sommef1,sommerecall,sommeprecision = 0,0,0\n",
    "for key in dico:\n",
    "    sommef1 += dico[key][\"f1\"]\n",
    "    sommerecall += dico[key][\"recall\"]\n",
    "    sommeprecision += dico[key][\"precision\"]\n",
    "    \n",
    "print(\"mean f1 score is:\" ,sommef1/len(dico))\n",
    "print(\"mean precision score is:\" ,sommeprecision/len(dico))\n",
    "print(\"mean recall score is:\" ,sommerecall/len(dico))"
   ]
  },
  {
   "cell_type": "markdown",
   "id": "e239dfce",
   "metadata": {},
   "source": [
    "## Modèle entrainé sur le jeu de synthese testé sur le Jeu de validation Réelle"
   ]
  },
  {
   "cell_type": "code",
   "execution_count": null,
   "id": "8360154b",
   "metadata": {},
   "outputs": [],
   "source": [
    "real_dir = \"Real/Valid/\"\n",
    "\n",
    "x_valid_dir = os.path.join(real_dir, 'images')\n",
    "y_valid_dir = os.path.join(real_dir, 'masks')\n",
    "\n",
    "# Dataset for validation images\n",
    "valid_dataset_real = Dataset(\n",
    "    x_valid_dir, \n",
    "    y_valid_dir, \n",
    "    classes=12, \n",
    "    augmentation=False,\n",
    "    preprocessing=get_preprocessing(preprocess_input),\n",
    "    #preprocessing=False,\n",
    ")"
   ]
  },
  {
   "cell_type": "code",
   "execution_count": null,
   "id": "3eae0d0d",
   "metadata": {},
   "outputs": [],
   "source": [
    "model.load_weights(os.path.join(result_dir,'best_model.h5'))"
   ]
  },
  {
   "cell_type": "code",
   "execution_count": null,
   "id": "8abed4bb",
   "metadata": {},
   "outputs": [],
   "source": [
    "valid_imgs_real =[]\n",
    "valid_labels_real =[]\n",
    "\n",
    "for img,label in valid_dataset_real:\n",
    "    valid_imgs_real.append(img)\n",
    "    valid_labels_real.append(label)\n",
    "    \n",
    "valid_imgs_real = np.array(valid_imgs_real)\n",
    "valid_labels_real = np.array(valid_labels_real)\n"
   ]
  },
  {
   "cell_type": "code",
   "execution_count": null,
   "id": "f37f1ab2",
   "metadata": {},
   "outputs": [],
   "source": [
    "predictions = model.predict(valid_imgs_real)"
   ]
  },
  {
   "cell_type": "code",
   "execution_count": null,
   "id": "ecd219b1",
   "metadata": {},
   "outputs": [],
   "source": [
    "classes_real = {0:\"background\",1:\"buisson\",2:\"champ\",3:\"eau\",\n",
    "         4:\"falaise\",5:\"foret\",6:\"foret_claire\",\n",
    "         7:\"pierrier\",8:\"prairie\",9:\"route\",10:\"verger\",\n",
    "         11:\"batiment\"}\n",
    "\n",
    "classes_syn = {0: \"falaise\" , 1: \"batiment\", 2:\"route\",3:\"pierrier\",4:\"verger\",\n",
    "            5:\"champ\",6:\"prairie\",7:\"foret\",8:\"foret_claire\",9:\"buisson\",10:\"eau\"}\n",
    "\n",
    "correspondance = {1:9,2:5,3:10,4:0,5:7,6:8,7:3,8:6,9:2,10:4,11:1}"
   ]
  },
  {
   "cell_type": "code",
   "execution_count": null,
   "id": "d60b832e",
   "metadata": {},
   "outputs": [],
   "source": [
    "valid_labels_real.shape,predictions.shape"
   ]
  },
  {
   "cell_type": "code",
   "execution_count": null,
   "id": "0f3900c2",
   "metadata": {},
   "outputs": [],
   "source": [
    "true_label = np.argmax(valid_labels_real,axis=3)\n",
    "label_pred = np.argmax(predictions,axis=3)"
   ]
  },
  {
   "cell_type": "code",
   "execution_count": null,
   "id": "eeb9e8dc",
   "metadata": {},
   "outputs": [],
   "source": [
    "i=random.choice(range(len(valid_imgs_real)-1))\n",
    "#i = 48\n",
    "print(i)\n",
    "\n",
    "plt.figure(figsize=(15, 5))\n",
    "plt.subplot(131)\n",
    "plt.imshow(label_pred[i])\n",
    "plt.gca().set_title(\"Prédiction\")\n",
    "\n",
    "plt.subplot(132)\n",
    "plt.imshow(true_label[i])\n",
    "plt.gca().set_title(\"Label\")\n",
    "\n",
    "plt.subplot(133)\n",
    "plt.imshow(valid_imgs_real[i])\n",
    "plt.gca().set_title(\"images\")\n",
    "plt.show()"
   ]
  },
  {
   "cell_type": "code",
   "execution_count": null,
   "id": "60d6b96f",
   "metadata": {},
   "outputs": [],
   "source": [
    "prediction = np.zeros(predictions.shape)\n",
    "\n",
    "for idx_class in range(11):\n",
    "    prediction[...,idx_class][label_pred == idx_class] = 1"
   ]
  },
  {
   "cell_type": "code",
   "execution_count": null,
   "id": "4fb97e62",
   "metadata": {},
   "outputs": [],
   "source": [
    "a"
   ]
  },
  {
   "cell_type": "code",
   "execution_count": null,
   "id": "cac7f363",
   "metadata": {},
   "outputs": [],
   "source": [
    "iou = {}\n",
    "\n",
    "a = list(classes_real.values())\n",
    "\n",
    "for idx_classe in range(1,12):\n",
    "    # doesn't take into account background class since it is not present\n",
    "    # in the synthese dataset\n",
    "    target = valid_labels_real[...,idx_classe]\n",
    "\n",
    "    intersection = np.logical_and(target,prediction[...,correspondance[idx_classe]])\n",
    "    union = np.logical_or(target,prediction[...,correspondance[idx_classe]])\n",
    "    iou_score = np.sum(intersection) / np.sum(union)\n",
    "    iou[a[idx_classe]] = iou_score\n",
    "print(iou)\n",
    "    \n",
    "print(\"mIou: \", np.mean(list(iou.values())))"
   ]
  },
  {
   "cell_type": "code",
   "execution_count": null,
   "id": "28a84866",
   "metadata": {},
   "outputs": [],
   "source": [
    "conf_mat = np.zeros((11,12))\n",
    "\n",
    "for idx_pred_class in range(1,12):\n",
    "    for idx_target_class in range(0,12):\n",
    "        target = valid_labels_real[...,idx_target_class]\n",
    "        \n",
    "        intersection = np.logical_and(target,prediction[...,correspondance[idx_pred_class]])\n",
    "        conf_mat[idx_pred_class-1,idx_target_class] = np.sum(intersection)"
   ]
  },
  {
   "cell_type": "code",
   "execution_count": null,
   "id": "ecb389c2",
   "metadata": {},
   "outputs": [],
   "source": [
    "data = conf_mat\n",
    "\n",
    "fig = plt.figure(figsize=(25,25))\n",
    "ax = fig.add_subplot(111)\n",
    "cax = ax.matshow(data, interpolation='nearest')\n",
    "fig.colorbar(cax)\n",
    "\n",
    "for i in range(len(data)+1):\n",
    "    for j in range(len(data)):\n",
    "        c = data[j,i]\n",
    "        ax.text(i, j, str(round(c,2)), va='center', ha='center',\n",
    "                color=\"red\",size = \"large\")\n",
    "        \n",
    "plt.xticks(range(12), list(classes_real.values()), rotation='vertical')\n",
    "plt.yticks(range(11), list(classes_real.values())[1:], rotation='horizontal')\n",
    "plt.xlabel('Réalité', fontsize=20)\n",
    "plt.gca().xaxis.set_label_position('top') \n",
    "plt.ylabel('Prediction', fontsize=20)\n",
    "plt.gca().set_title(\"Matrice de Confusion réalisé avec les effectifs\", fontsize=25)\n",
    "plt.show()"
   ]
  },
  {
   "cell_type": "code",
   "execution_count": null,
   "id": "2a0eda15",
   "metadata": {},
   "outputs": [],
   "source": [
    "assert np.sum(conf_mat.flatten())/len(label_pred.flatten()) == 1"
   ]
  },
  {
   "cell_type": "code",
   "execution_count": null,
   "id": "9ac27591",
   "metadata": {},
   "outputs": [],
   "source": [
    "conf_mat_norm = conf_mat[:,1:].T/conf_mat[:,1:].sum(axis=1)\n",
    "\n",
    "conf_mat_norm = conf_mat_norm.T\n",
    "\n",
    "data = conf_mat_norm\n",
    "\n",
    "fig = plt.figure(figsize=(25,25))\n",
    "ax = fig.add_subplot(111)\n",
    "cax = ax.matshow(data, interpolation='nearest')\n",
    "fig.colorbar(cax)\n",
    "\n",
    "for i in range(len(data)):\n",
    "    for j in range(len(data)):\n",
    "        c = data[j,i]\n",
    "        ax.text(i, j, str(round(c,2)), va='center', ha='center',\n",
    "                color=\"red\",size = \"large\")\n",
    "        \n",
    "plt.xticks(range(11), list(classes_real.values())[1:], rotation='vertical')\n",
    "plt.yticks(range(11), list(classes_real.values())[1:], rotation='horizontal')\n",
    "plt.xlabel('Réalité', fontsize=20)\n",
    "plt.gca().xaxis.set_label_position('top') \n",
    "plt.ylabel('Prediction', fontsize=20)\n",
    "plt.gca().set_title(\"Etudes des FP\", fontsize=25)\n",
    "plt.show()"
   ]
  },
  {
   "cell_type": "code",
   "execution_count": null,
   "id": "c08a225c",
   "metadata": {},
   "outputs": [],
   "source": [
    "conf_mat_norm_bis = conf_mat[:,1:] / conf_mat[:,1:].sum(axis=0)\n",
    "\n",
    "data = conf_mat_norm_bis\n",
    "\n",
    "fig = plt.figure(figsize=(25,25))\n",
    "ax = fig.add_subplot(111)\n",
    "cax = ax.matshow(data, interpolation='nearest')\n",
    "fig.colorbar(cax)\n",
    "\n",
    "for i in range(11):\n",
    "    for j in range(11):\n",
    "        c = data[j,i]\n",
    "        ax.text(i, j, str(round(c,2)), va='center', ha='center',\n",
    "                color=\"red\",size = \"large\")\n",
    "        \n",
    "plt.xticks(range(11), list(classes_real.values())[1:], rotation='vertical')\n",
    "plt.yticks(range(11), list(classes_real.values())[1:], rotation='horizontal')\n",
    "plt.xlabel('Réalité', fontsize=20)\n",
    "plt.gca().xaxis.set_label_position('top') \n",
    "plt.ylabel('Prediction', fontsize=20)\n",
    "plt.gca().set_title(\"Etudes des FN\", fontsize=25)\n",
    "plt.show()"
   ]
  },
  {
   "cell_type": "code",
   "execution_count": null,
   "id": "cd7c7759",
   "metadata": {},
   "outputs": [],
   "source": [
    "conf_mat_without_background = conf_mat[:,1:]\n",
    "conf_mat_without_background.shape"
   ]
  },
  {
   "cell_type": "code",
   "execution_count": null,
   "id": "89ca9331",
   "metadata": {},
   "outputs": [],
   "source": [
    "dico = {}\n",
    "for key in range(11):\n",
    "    precision = conf_mat_without_background[key,key]/np.sum(conf_mat_without_background[key,:])\n",
    "    recall = conf_mat_without_background[key,key]/np.sum(conf_mat_without_background[:,key])\n",
    "    f1score = 2 * precision * recall /(precision + recall)\n",
    "    dico[classes_real[key+1]] = {\"precision\":precision,\"recall\":recall,\"f1\":f1score}\n",
    "    \n",
    "dico"
   ]
  },
  {
   "cell_type": "code",
   "execution_count": null,
   "id": "7d89a05e",
   "metadata": {},
   "outputs": [],
   "source": [
    "sommef1,sommerecall,sommeprecision = 0,0,0\n",
    "for key in dico:\n",
    "    sommef1 += dico[key][\"f1\"]\n",
    "    sommerecall += dico[key][\"recall\"]\n",
    "    sommeprecision += dico[key][\"precision\"]\n",
    "    \n",
    "print(\"mean f1 score is:\" ,sommef1/len(dico))\n",
    "print(\"mean precision score is:\" ,sommeprecision/len(dico))\n",
    "print(\"mean recall score is:\" ,sommerecall/len(dico))"
   ]
  },
  {
   "cell_type": "code",
   "execution_count": null,
   "id": "ded7b838",
   "metadata": {},
   "outputs": [],
   "source": []
  }
 ],
 "metadata": {
  "kernelspec": {
   "display_name": "Python 3 (ipykernel)",
   "language": "python",
   "name": "python3"
  },
  "language_info": {
   "codemirror_mode": {
    "name": "ipython",
    "version": 3
   },
   "file_extension": ".py",
   "mimetype": "text/x-python",
   "name": "python",
   "nbconvert_exporter": "python",
   "pygments_lexer": "ipython3",
   "version": "3.9.2"
  }
 },
 "nbformat": 4,
 "nbformat_minor": 5
}
